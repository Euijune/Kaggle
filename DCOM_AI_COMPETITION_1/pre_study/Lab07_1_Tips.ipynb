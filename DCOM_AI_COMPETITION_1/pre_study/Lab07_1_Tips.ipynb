{
  "nbformat": 4,
  "nbformat_minor": 0,
  "metadata": {
    "colab": {
      "name": "Lab07_1_Tips.ipynb",
      "provenance": [],
      "collapsed_sections": []
    },
    "kernelspec": {
      "name": "python3",
      "display_name": "Python 3"
    },
    "language_info": {
      "name": "python"
    }
  },
  "cells": [
    {
      "cell_type": "markdown",
      "source": [
        "## **Imports**"
      ],
      "metadata": {
        "id": "erJ6EM6bC7Vy"
      }
    },
    {
      "cell_type": "code",
      "execution_count": 1,
      "metadata": {
        "colab": {
          "base_uri": "https://localhost:8080/"
        },
        "id": "kfICwltRAvCJ",
        "outputId": "ff2d26d6-7ce3-4e2d-b00b-9f232ccf0fbe"
      },
      "outputs": [
        {
          "output_type": "execute_result",
          "data": {
            "text/plain": [
              "<torch._C.Generator at 0x7f35caed3850>"
            ]
          },
          "metadata": {},
          "execution_count": 1
        }
      ],
      "source": [
        "import torch\n",
        "import torch.nn as nn\n",
        "import torch.nn.functional as F\n",
        "import torch.optim as optim\n",
        "\n",
        "# For reproducibility\n",
        "torch.manual_seed(1)"
      ]
    },
    {
      "cell_type": "markdown",
      "source": [
        "## **Traning and Test Datasets**"
      ],
      "metadata": {
        "id": "W0szxlaNC86-"
      }
    },
    {
      "cell_type": "code",
      "source": [
        "x_train = torch.FloatTensor([[1, 2, 1],\n",
        "                             [1, 3, 2],\n",
        "                             [1, 3, 4],\n",
        "                             [1, 5, 5],\n",
        "                             [1, 7, 5],\n",
        "                             [1, 2, 5],\n",
        "                             [1, 6, 6],\n",
        "                             [1, 7, 7]\n",
        "                            ])\n",
        "y_train = torch.LongTensor([2, 2, 2, 1, 1, 1, 0, 0])"
      ],
      "metadata": {
        "id": "FgPt4S43C_vy"
      },
      "execution_count": 22,
      "outputs": []
    },
    {
      "cell_type": "code",
      "source": [
        "x_test = torch.FloatTensor([[2, 1, 1], [3, 1, 2], [3, 3, 4]])\n",
        "y_test = torch.LongTensor([2, 2, 2])"
      ],
      "metadata": {
        "id": "RyQOEJKXDB_9"
      },
      "execution_count": 23,
      "outputs": []
    },
    {
      "cell_type": "markdown",
      "source": [
        "## **Model**"
      ],
      "metadata": {
        "id": "orGtLLL4DDKF"
      }
    },
    {
      "cell_type": "code",
      "source": [
        "class SoftmaxClassifierModel(nn.Module):\n",
        "    def __init__(self):\n",
        "        super().__init__()\n",
        "        self.linear = nn.Linear(3, 3)\n",
        "    def forward(self, x):\n",
        "        return self.linear(x)"
      ],
      "metadata": {
        "id": "qoVzLIiVDGb6"
      },
      "execution_count": 24,
      "outputs": []
    },
    {
      "cell_type": "code",
      "source": [
        "model = SoftmaxClassifierModel()\n",
        "optimizer = optim.SGD(model.parameters(), lr=0.1)"
      ],
      "metadata": {
        "id": "veor-P0ZDHiZ"
      },
      "execution_count": 25,
      "outputs": []
    },
    {
      "cell_type": "code",
      "source": [
        "def train(model, optimizer, x_train, y_train, loss_func='CE', regularization=False):\n",
        "    nb_epochs = 20\n",
        "    for epoch in range(nb_epochs):\n",
        "\n",
        "        # H(x) 계산\n",
        "        prediction = model(x_train)\n",
        "\n",
        "        # cost 계산\n",
        "        if loss_func == 'CE':\n",
        "            cost = F.cross_entropy(prediction, y_train)\n",
        "        elif loss_func == 'MSE':\n",
        "            cost = F.mse_loss(prediction, y_train)\n",
        "\n",
        "        # l2 norm 계산\n",
        "        if regularization:\n",
        "            l2_reg = 0\n",
        "            for param in model.parameters():\n",
        "                l2_reg += torch.norm(param)\n",
        "                \n",
        "            cost += l2_reg\n",
        "\n",
        "        # cost로 H(x) 개선\n",
        "        optimizer.zero_grad()\n",
        "        cost.backward()\n",
        "        optimizer.step()\n",
        "\n",
        "        print('Epoch {:4d}/{} Cost: {:.6f}'.format(\n",
        "            epoch, nb_epochs, cost.item()\n",
        "        ))"
      ],
      "metadata": {
        "id": "X0A24a6oDKKV"
      },
      "execution_count": 43,
      "outputs": []
    },
    {
      "cell_type": "code",
      "source": [
        "def test(model, optimizer, x_test, y_test, loss_func='CE'):\n",
        "    prediction = model(x_test)\n",
        "    predicted_classes = prediction.max(1)[1]\n",
        "    correct_count = (predicted_classes == y_test).sum().item()\n",
        "\n",
        "    if loss_func == 'CE':\n",
        "        cost = F.cross_entropy(prediction, y_test)\n",
        "    elif loss_func == 'MSE':\n",
        "        cost = F.mse_loss(prediction, y_test)\n",
        "\n",
        "    print('Accuracy: {}% Cost: {:.6f}'.format(\n",
        "         correct_count / len(y_test) * 100, cost.item()\n",
        "    ))"
      ],
      "metadata": {
        "id": "lfdGBOBrDL0N"
      },
      "execution_count": 27,
      "outputs": []
    },
    {
      "cell_type": "markdown",
      "source": [
        "## Train & Test"
      ],
      "metadata": {
        "id": "7lbI62phEGkK"
      }
    },
    {
      "cell_type": "code",
      "source": [
        "train(model, optimizer, x_train, y_train, loss_func='CE')"
      ],
      "metadata": {
        "colab": {
          "base_uri": "https://localhost:8080/"
        },
        "id": "vuuNCI5fEHwY",
        "outputId": "230f849c-21db-4654-f714-36d37e6edef2"
      },
      "execution_count": 28,
      "outputs": [
        {
          "output_type": "stream",
          "name": "stdout",
          "text": [
            "Epoch    0/20 Cost: 1.566329\n",
            "Epoch    1/20 Cost: 1.273856\n",
            "Epoch    2/20 Cost: 1.185181\n",
            "Epoch    3/20 Cost: 1.164505\n",
            "Epoch    4/20 Cost: 1.151169\n",
            "Epoch    5/20 Cost: 1.139832\n",
            "Epoch    6/20 Cost: 1.129630\n",
            "Epoch    7/20 Cost: 1.120178\n",
            "Epoch    8/20 Cost: 1.111199\n",
            "Epoch    9/20 Cost: 1.102585\n",
            "Epoch   10/20 Cost: 1.094248\n",
            "Epoch   11/20 Cost: 1.086148\n",
            "Epoch   12/20 Cost: 1.078252\n",
            "Epoch   13/20 Cost: 1.070544\n",
            "Epoch   14/20 Cost: 1.063008\n",
            "Epoch   15/20 Cost: 1.055635\n",
            "Epoch   16/20 Cost: 1.048418\n",
            "Epoch   17/20 Cost: 1.041350\n",
            "Epoch   18/20 Cost: 1.034427\n",
            "Epoch   19/20 Cost: 1.027643\n"
          ]
        }
      ]
    },
    {
      "cell_type": "code",
      "source": [
        "test(model, optimizer, x_test, y_test, loss_func='CE')"
      ],
      "metadata": {
        "colab": {
          "base_uri": "https://localhost:8080/"
        },
        "id": "CeFxAUd6EKOK",
        "outputId": "431b02cb-0e0f-4360-8e15-93788e645ee8"
      },
      "execution_count": 29,
      "outputs": [
        {
          "output_type": "stream",
          "name": "stdout",
          "text": [
            "Accuracy: 0.0% Cost: 1.654612\n"
          ]
        }
      ]
    },
    {
      "cell_type": "markdown",
      "source": [
        "## **Learning rate**"
      ],
      "metadata": {
        "id": "4Nc2jkh1HHF6"
      }
    },
    {
      "cell_type": "code",
      "source": [
        "model = SoftmaxClassifierModel()\n",
        "optimizer = optim.SGD(model.parameters(), lr=1e5)"
      ],
      "metadata": {
        "id": "T9-_KFiKHIpJ"
      },
      "execution_count": 30,
      "outputs": []
    },
    {
      "cell_type": "code",
      "source": [
        "train(model, optimizer, x_train, y_train, loss_func='CE')"
      ],
      "metadata": {
        "colab": {
          "base_uri": "https://localhost:8080/"
        },
        "id": "ow6ZdRQPHLgt",
        "outputId": "adf47663-2067-4ecc-d94c-8eeac7a4ade4"
      },
      "execution_count": 31,
      "outputs": [
        {
          "output_type": "stream",
          "name": "stdout",
          "text": [
            "Epoch    0/20 Cost: 2.221630\n",
            "Epoch    1/20 Cost: 1538446.875000\n",
            "Epoch    2/20 Cost: 1726642.000000\n",
            "Epoch    3/20 Cost: 534731.812500\n",
            "Epoch    4/20 Cost: 258759.343750\n",
            "Epoch    5/20 Cost: 1871575.125000\n",
            "Epoch    6/20 Cost: 1154767.125000\n",
            "Epoch    7/20 Cost: 947821.812500\n",
            "Epoch    8/20 Cost: 1993450.125000\n",
            "Epoch    9/20 Cost: 511884.375000\n",
            "Epoch   10/20 Cost: 1207824.250000\n",
            "Epoch   11/20 Cost: 1396954.500000\n",
            "Epoch   12/20 Cost: 1179072.000000\n",
            "Epoch   13/20 Cost: 1468450.125000\n",
            "Epoch   14/20 Cost: 758040.375000\n",
            "Epoch   15/20 Cost: 769030.562500\n",
            "Epoch   16/20 Cost: 630706.125000\n",
            "Epoch   17/20 Cost: 1144696.875000\n",
            "Epoch   18/20 Cost: 1602825.125000\n",
            "Epoch   19/20 Cost: 723665.375000\n"
          ]
        }
      ]
    },
    {
      "cell_type": "markdown",
      "source": [
        "learning rate이 너무 작으면 cost가 거의 줄어들지 않는다."
      ],
      "metadata": {
        "id": "nrCVhijsLd_I"
      }
    },
    {
      "cell_type": "code",
      "source": [
        "model = SoftmaxClassifierModel()\n",
        "optimizer = optim.SGD(model.parameters(), lr=1e-10)"
      ],
      "metadata": {
        "id": "MYMDdVzNLa1U"
      },
      "execution_count": 33,
      "outputs": []
    },
    {
      "cell_type": "code",
      "source": [
        "train(model, optimizer, x_train, y_train, loss_func='CE')"
      ],
      "metadata": {
        "colab": {
          "base_uri": "https://localhost:8080/"
        },
        "id": "DgWApNuLLddH",
        "outputId": "95c90f84-e600-4bcc-e25e-9fc0c1a6eb36"
      },
      "execution_count": 34,
      "outputs": [
        {
          "output_type": "stream",
          "name": "stdout",
          "text": [
            "Epoch    0/20 Cost: 2.678931\n",
            "Epoch    1/20 Cost: 2.678931\n",
            "Epoch    2/20 Cost: 2.678931\n",
            "Epoch    3/20 Cost: 2.678931\n",
            "Epoch    4/20 Cost: 2.678931\n",
            "Epoch    5/20 Cost: 2.678931\n",
            "Epoch    6/20 Cost: 2.678931\n",
            "Epoch    7/20 Cost: 2.678931\n",
            "Epoch    8/20 Cost: 2.678931\n",
            "Epoch    9/20 Cost: 2.678931\n",
            "Epoch   10/20 Cost: 2.678931\n",
            "Epoch   11/20 Cost: 2.678931\n",
            "Epoch   12/20 Cost: 2.678931\n",
            "Epoch   13/20 Cost: 2.678931\n",
            "Epoch   14/20 Cost: 2.678931\n",
            "Epoch   15/20 Cost: 2.678931\n",
            "Epoch   16/20 Cost: 2.678931\n",
            "Epoch   17/20 Cost: 2.678931\n",
            "Epoch   18/20 Cost: 2.678931\n",
            "Epoch   19/20 Cost: 2.678931\n"
          ]
        }
      ]
    },
    {
      "cell_type": "markdown",
      "source": [
        "적절한 숫자로 시작해 발산하면 작게, cost가 줄어들지 않으면 크게 조정하자."
      ],
      "metadata": {
        "id": "bR9AckZuLlUu"
      }
    },
    {
      "cell_type": "markdown",
      "source": [
        "## **Data Preprocessing**"
      ],
      "metadata": {
        "id": "vunIf7z3Lryf"
      }
    },
    {
      "cell_type": "markdown",
      "source": [
        "데이터를 zero-center하고 normalize하자."
      ],
      "metadata": {
        "id": "rkctsSbHL1IB"
      }
    },
    {
      "cell_type": "code",
      "source": [
        "x_train = torch.FloatTensor([[73, 80, 75],\n",
        "                             [93, 88, 93],\n",
        "                             [89, 91, 90],\n",
        "                             [96, 98, 100],\n",
        "                             [73, 66, 70]])\n",
        "y_train = torch.FloatTensor([[152], [185], [180], [196], [142]])"
      ],
      "metadata": {
        "id": "g6WNraLxLuMi"
      },
      "execution_count": 35,
      "outputs": []
    },
    {
      "cell_type": "code",
      "source": [
        "mu = x_train.mean(dim=0)\n",
        "sigma = x_train.std(dim=0)\n",
        "norm_x_train = (x_train - mu) / sigma\n",
        "print(norm_x_train)"
      ],
      "metadata": {
        "colab": {
          "base_uri": "https://localhost:8080/"
        },
        "id": "z2IYHetGL5x3",
        "outputId": "8ae06269-8891-408a-a6c2-035b7b8ae28c"
      },
      "execution_count": 36,
      "outputs": [
        {
          "output_type": "stream",
          "name": "stdout",
          "text": [
            "tensor([[-1.0674, -0.3758, -0.8398],\n",
            "        [ 0.7418,  0.2778,  0.5863],\n",
            "        [ 0.3799,  0.5229,  0.3486],\n",
            "        [ 1.0132,  1.0948,  1.1409],\n",
            "        [-1.0674, -1.5197, -1.2360]])\n"
          ]
        }
      ]
    },
    {
      "cell_type": "code",
      "source": [
        "class MultivariateLinearRegressionModel(nn.Module):\n",
        "    def __init__(self):\n",
        "        super().__init__()\n",
        "        self.linear = nn.Linear(3, 1)\n",
        "\n",
        "    def forward(self, x):\n",
        "        return self.linear(x)  "
      ],
      "metadata": {
        "id": "bX-Krc3JMB0-"
      },
      "execution_count": 54,
      "outputs": []
    },
    {
      "cell_type": "code",
      "source": [
        "model = MultivariateLinearRegressionModel()\n",
        "optimizer = optim.SGD(model.parameters(), lr=1e-1)"
      ],
      "metadata": {
        "id": "Th6Y5tUoMDTp"
      },
      "execution_count": 55,
      "outputs": []
    },
    {
      "cell_type": "code",
      "source": [
        "train(model, optimizer, norm_x_train, y_train, loss_func=\"MSE\")"
      ],
      "metadata": {
        "colab": {
          "base_uri": "https://localhost:8080/"
        },
        "id": "HnOA1zZyN7ts",
        "outputId": "b8c87ca1-1c46-48a7-dbb7-0bf6e0a72f41"
      },
      "execution_count": 56,
      "outputs": [
        {
          "output_type": "stream",
          "name": "stdout",
          "text": [
            "Epoch    0/20 Cost: 29549.496094\n",
            "Epoch    1/20 Cost: 18774.693359\n",
            "Epoch    2/20 Cost: 11976.083984\n",
            "Epoch    3/20 Cost: 7653.282227\n",
            "Epoch    4/20 Cost: 4894.922852\n",
            "Epoch    5/20 Cost: 3131.966309\n",
            "Epoch    6/20 Cost: 2004.366455\n",
            "Epoch    7/20 Cost: 1282.899292\n",
            "Epoch    8/20 Cost: 821.213989\n",
            "Epoch    9/20 Cost: 525.747437\n",
            "Epoch   10/20 Cost: 336.648041\n",
            "Epoch   11/20 Cost: 215.621246\n",
            "Epoch   12/20 Cost: 138.159622\n",
            "Epoch   13/20 Cost: 88.579605\n",
            "Epoch   14/20 Cost: 56.843933\n",
            "Epoch   15/20 Cost: 36.528706\n",
            "Epoch   16/20 Cost: 23.522770\n",
            "Epoch   17/20 Cost: 15.195030\n",
            "Epoch   18/20 Cost: 9.861450\n",
            "Epoch   19/20 Cost: 6.444228\n"
          ]
        }
      ]
    },
    {
      "cell_type": "markdown",
      "source": [
        "## **Prevent Overfitting**"
      ],
      "metadata": {
        "id": "Z2F0blWAODS0"
      }
    },
    {
      "cell_type": "code",
      "source": [
        "model = MultivariateLinearRegressionModel()\n",
        "optimizer = optim.SGD(model.parameters(), lr=1e-1)"
      ],
      "metadata": {
        "id": "tQjsPXVTOeNU"
      },
      "execution_count": 60,
      "outputs": []
    },
    {
      "cell_type": "code",
      "source": [
        "train(model, optimizer, norm_x_train, y_train, loss_func='MSE', regularization=True)"
      ],
      "metadata": {
        "colab": {
          "base_uri": "https://localhost:8080/"
        },
        "id": "ODyN3_QYOgyY",
        "outputId": "8e184866-f1cb-4c25-b72f-33c5b9aa8375"
      },
      "execution_count": 61,
      "outputs": [
        {
          "output_type": "stream",
          "name": "stdout",
          "text": [
            "Epoch    0/20 Cost: 29490.474609\n",
            "Epoch    1/20 Cost: 18806.806641\n",
            "Epoch    2/20 Cost: 12064.233398\n",
            "Epoch    3/20 Cost: 7776.406738\n",
            "Epoch    4/20 Cost: 5040.172363\n",
            "Epoch    5/20 Cost: 3291.299316\n",
            "Epoch    6/20 Cost: 2172.690186\n",
            "Epoch    7/20 Cost: 1456.970093\n",
            "Epoch    8/20 Cost: 998.961365\n",
            "Epoch    9/20 Cost: 705.846252\n",
            "Epoch   10/20 Cost: 518.252075\n",
            "Epoch   11/20 Cost: 398.187592\n",
            "Epoch   12/20 Cost: 321.342346\n",
            "Epoch   13/20 Cost: 272.156982\n",
            "Epoch   14/20 Cost: 240.673645\n",
            "Epoch   15/20 Cost: 220.520340\n",
            "Epoch   16/20 Cost: 207.618347\n",
            "Epoch   17/20 Cost: 199.357346\n",
            "Epoch   18/20 Cost: 194.066711\n",
            "Epoch   19/20 Cost: 190.677444\n"
          ]
        }
      ]
    }
  ]
}