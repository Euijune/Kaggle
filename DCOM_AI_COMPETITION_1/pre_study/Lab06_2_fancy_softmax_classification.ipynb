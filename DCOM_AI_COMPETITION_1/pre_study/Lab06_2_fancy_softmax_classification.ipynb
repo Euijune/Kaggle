{
  "nbformat": 4,
  "nbformat_minor": 0,
  "metadata": {
    "colab": {
      "name": "Lab06_2_fancy_softmax_classification.ipynb",
      "provenance": [],
      "collapsed_sections": []
    },
    "kernelspec": {
      "name": "python3",
      "display_name": "Python 3"
    },
    "language_info": {
      "name": "python"
    }
  },
  "cells": [
    {
      "cell_type": "markdown",
      "source": [
        "## Imports"
      ],
      "metadata": {
        "id": "H8P-95BPs9g3"
      }
    },
    {
      "cell_type": "code",
      "source": [
        "from google.colab import drive\n",
        "drive.mount('/content/drive')"
      ],
      "metadata": {
        "colab": {
          "base_uri": "https://localhost:8080/"
        },
        "id": "QK2pqCKWuILR",
        "outputId": "2183991e-37eb-471a-f34f-12702dc69910"
      },
      "execution_count": 8,
      "outputs": [
        {
          "output_type": "stream",
          "name": "stdout",
          "text": [
            "Mounted at /content/drive\n"
          ]
        }
      ]
    },
    {
      "cell_type": "code",
      "source": [
        "cd /content/drive/Shareddrives/Data/Kaggle/D.COM_AI_COMPETITION_1th/pre_study"
      ],
      "metadata": {
        "colab": {
          "base_uri": "https://localhost:8080/"
        },
        "id": "ZxN75vCyuoBw",
        "outputId": "be47a0de-bbe5-4312-ee29-22ef71738c4f"
      },
      "execution_count": 9,
      "outputs": [
        {
          "output_type": "stream",
          "name": "stdout",
          "text": [
            "/content/drive/Shareddrives/Data/Kaggle/D.COM_AI_COMPETITION_1th/pre_study\n"
          ]
        }
      ]
    },
    {
      "cell_type": "code",
      "execution_count": 1,
      "metadata": {
        "colab": {
          "base_uri": "https://localhost:8080/"
        },
        "id": "QUG4VORwsZ9d",
        "outputId": "e6ca46d3-eccb-4c69-f396-bc590811df26"
      },
      "outputs": [
        {
          "output_type": "execute_result",
          "data": {
            "text/plain": [
              "<torch._C.Generator at 0x7ff6e6a97750>"
            ]
          },
          "metadata": {},
          "execution_count": 1
        }
      ],
      "source": [
        "import numpy as np\n",
        "import torch\n",
        "import torch.nn as nn\n",
        "import torch.nn.functional as F\n",
        "import torch.optim as optim\n",
        "\n",
        "# For reproducibility\n",
        "torch.manual_seed(1)"
      ]
    },
    {
      "cell_type": "markdown",
      "source": [
        "## **CE Loss with `torch.nn.functional`**"
      ],
      "metadata": {
        "id": "sXgBTCXktCy9"
      }
    },
    {
      "cell_type": "code",
      "source": [
        "z = torch.rand(3, 5, requires_grad=True)\n",
        "hypothesis = F.softmax(z, dim=1)\n",
        "y = torch.randint(5, (3,)).long()\n",
        "y_one_hot = torch.zeros_like(hypothesis)\n",
        "y_one_hot.scatter_(1, y.unsqueeze(1), 1)"
      ],
      "metadata": {
        "colab": {
          "base_uri": "https://localhost:8080/"
        },
        "id": "vobCWsrltFnb",
        "outputId": "0495d83c-6347-4e40-f455-1496deea4d77"
      },
      "execution_count": 7,
      "outputs": [
        {
          "output_type": "execute_result",
          "data": {
            "text/plain": [
              "tensor([[1., 0., 0., 0., 0.],\n",
              "        [0., 0., 0., 1., 0.],\n",
              "        [1., 0., 0., 0., 0.]])"
            ]
          },
          "metadata": {},
          "execution_count": 7
        }
      ]
    },
    {
      "cell_type": "code",
      "source": [
        "# Low level\n",
        "# torch.log(F.softmax(z, dim=1))\n",
        "\n",
        "# High level\n",
        "F.log_softmax(z, dim=1)"
      ],
      "metadata": {
        "colab": {
          "base_uri": "https://localhost:8080/"
        },
        "id": "uwwCxwF7tKAm",
        "outputId": "c0f3d09c-1e24-4eb3-d19a-6d0a787ce3ba"
      },
      "execution_count": 4,
      "outputs": [
        {
          "output_type": "execute_result",
          "data": {
            "text/plain": [
              "tensor([[-1.2127, -1.4941, -1.8359, -1.9517, -1.7335],\n",
              "        [-1.8912, -1.8358, -1.6516, -1.3775, -1.4038],\n",
              "        [-2.3011, -1.5023, -1.6726, -1.3380, -1.4823]],\n",
              "       grad_fn=<LogSoftmaxBackward0>)"
            ]
          },
          "metadata": {},
          "execution_count": 4
        }
      ]
    },
    {
      "cell_type": "code",
      "source": [
        "# Low level\n",
        "#(y_one_hot * -torch.log(F.softmax(z, dim=1))).sum(dim=1).mean()\n",
        "\n",
        "# High level\n",
        "F.nll_loss(F.log_softmax(z, dim=1), y.long())"
      ],
      "metadata": {
        "colab": {
          "base_uri": "https://localhost:8080/"
        },
        "id": "f5Cy6x_3t6vr",
        "outputId": "08327717-6563-4d97-a5db-2302b83a7761"
      },
      "execution_count": 5,
      "outputs": [
        {
          "output_type": "execute_result",
          "data": {
            "text/plain": [
              "tensor(1.6471, grad_fn=<NllLossBackward0>)"
            ]
          },
          "metadata": {},
          "execution_count": 5
        }
      ]
    },
    {
      "cell_type": "code",
      "source": [
        "F.cross_entropy(z, y)"
      ],
      "metadata": {
        "colab": {
          "base_uri": "https://localhost:8080/"
        },
        "id": "4gDwD4aht_kj",
        "outputId": "cf2fde44-715b-4c2d-c2c5-c79f7d394ea7"
      },
      "execution_count": 6,
      "outputs": [
        {
          "output_type": "execute_result",
          "data": {
            "text/plain": [
              "tensor(1.6471, grad_fn=<NllLossBackward0>)"
            ]
          },
          "metadata": {},
          "execution_count": 6
        }
      ]
    },
    {
      "cell_type": "markdown",
      "source": [
        "## **Data**"
      ],
      "metadata": {
        "id": "0AbZtrfzuGkr"
      }
    },
    {
      "cell_type": "code",
      "source": [
        "xy = np.loadtxt('./data/data-04-zoo.csv', delimiter=',', dtype=np.float32)"
      ],
      "metadata": {
        "id": "Y4cg5zrguHUN"
      },
      "execution_count": 10,
      "outputs": []
    },
    {
      "cell_type": "code",
      "source": [
        "x_train = torch.FloatTensor(xy[:, 0:-1])\n",
        "y_train = torch.LongTensor(xy[:, [-1]]).squeeze()"
      ],
      "metadata": {
        "id": "Gm4YKQv3u1wG"
      },
      "execution_count": 11,
      "outputs": []
    },
    {
      "cell_type": "code",
      "source": [
        "print(x_train.shape) # x_train shape\n",
        "print(len(x_train))  # x_train 길이\n",
        "print(x_train[:5])"
      ],
      "metadata": {
        "colab": {
          "base_uri": "https://localhost:8080/"
        },
        "id": "7mm0O_3UvJN1",
        "outputId": "b60cd033-b3c4-4617-c1b7-8f1ec85e6c73"
      },
      "execution_count": 19,
      "outputs": [
        {
          "output_type": "stream",
          "name": "stdout",
          "text": [
            "torch.Size([101, 16])\n",
            "101\n",
            "tensor([[1., 0., 0., 1., 0., 0., 1., 1., 1., 1., 0., 0., 4., 0., 0., 1.],\n",
            "        [1., 0., 0., 1., 0., 0., 0., 1., 1., 1., 0., 0., 4., 1., 0., 1.],\n",
            "        [0., 0., 1., 0., 0., 1., 1., 1., 1., 0., 0., 1., 0., 1., 0., 0.],\n",
            "        [1., 0., 0., 1., 0., 0., 1., 1., 1., 1., 0., 0., 4., 0., 0., 1.],\n",
            "        [1., 0., 0., 1., 0., 0., 1., 1., 1., 1., 0., 0., 4., 1., 0., 1.]])\n"
          ]
        }
      ]
    },
    {
      "cell_type": "code",
      "source": [
        "print(y_train.shape) # y_train shape\n",
        "print(len(y_train))  # y_train 길이\n",
        "print(y_train[:5])   # 첫 다섯 개"
      ],
      "metadata": {
        "colab": {
          "base_uri": "https://localhost:8080/"
        },
        "id": "2hx3Ob41vyD4",
        "outputId": "55f5f6e1-e0ce-429c-da7d-66d6be59b9fe"
      },
      "execution_count": 18,
      "outputs": [
        {
          "output_type": "stream",
          "name": "stdout",
          "text": [
            "torch.Size([101])\n",
            "101\n",
            "tensor([0, 0, 3, 0, 0])\n"
          ]
        }
      ]
    },
    {
      "cell_type": "code",
      "source": [
        "nb_classes = 7\n",
        "y_one_hot = torch.zeros((len(y_train), nb_classes))\n",
        "y_one_hot = y_one_hot.scatter(1, y_train.unsqueeze(1), 1)"
      ],
      "metadata": {
        "id": "SmQeL2F6vzjr"
      },
      "execution_count": 20,
      "outputs": []
    },
    {
      "cell_type": "markdown",
      "source": [
        "## **Traning with `F.corss_entropy()`**"
      ],
      "metadata": {
        "id": "DozfIsNjv2_B"
      }
    },
    {
      "cell_type": "code",
      "source": [
        "# 모델 초기화\n",
        "W = torch.zeros((16, 7), requires_grad=True)\n",
        "b = torch.zeros(1, requires_grad=True)\n",
        "# optimizer 설정\n",
        "optimizer = optim.SGD([W, b], lr=0.1)\n",
        "\n",
        "nb_epochs = 1000\n",
        "for epoch in range(nb_epochs + 1):\n",
        "\n",
        "    # Cost 계산 (2)\n",
        "    z = x_train.matmul(W) + b # or .mm or @\n",
        "    cost = F.cross_entropy(z, y_train)\n",
        "\n",
        "    # cost로 H(x) 개선\n",
        "    optimizer.zero_grad()\n",
        "    cost.backward()\n",
        "    optimizer.step()\n",
        "\n",
        "    # 100번마다 로그 출력\n",
        "    if epoch % 100 == 0:\n",
        "        print('Epoch {:4d}/{} Cost: {:.6f}'.format(\n",
        "            epoch, nb_epochs, cost.item()\n",
        "        ))"
      ],
      "metadata": {
        "colab": {
          "base_uri": "https://localhost:8080/"
        },
        "id": "kOrlP8o9v6FK",
        "outputId": "96348faa-25fc-45ab-c108-78d49126899c"
      },
      "execution_count": 21,
      "outputs": [
        {
          "output_type": "stream",
          "name": "stdout",
          "text": [
            "Epoch    0/1000 Cost: 1.945910\n",
            "Epoch  100/1000 Cost: 0.471836\n",
            "Epoch  200/1000 Cost: 0.326327\n",
            "Epoch  300/1000 Cost: 0.257839\n",
            "Epoch  400/1000 Cost: 0.215762\n",
            "Epoch  500/1000 Cost: 0.186603\n",
            "Epoch  600/1000 Cost: 0.164898\n",
            "Epoch  700/1000 Cost: 0.147955\n",
            "Epoch  800/1000 Cost: 0.134279\n",
            "Epoch  900/1000 Cost: 0.122962\n",
            "Epoch 1000/1000 Cost: 0.113422\n"
          ]
        }
      ]
    },
    {
      "cell_type": "markdown",
      "source": [
        "## **High-level Implementation with `nn.Module`**"
      ],
      "metadata": {
        "id": "8lEHKgmov-hm"
      }
    },
    {
      "cell_type": "code",
      "source": [
        "class SoftmaxClassifierModel(nn.Module):\n",
        "    def __init__(self):\n",
        "        super().__init__()\n",
        "        self.linear = nn.Linear(16, 7)\n",
        "    def forward(self, x):\n",
        "        return self.linear(x)"
      ],
      "metadata": {
        "id": "kPwlElshwAcv"
      },
      "execution_count": 22,
      "outputs": []
    },
    {
      "cell_type": "code",
      "source": [
        "model = SoftmaxClassifierModel()\n",
        "optimizer = optim.SGD(model.parameters(), lr=0.1)\n",
        "\n",
        "nb_epochs = 1000\n",
        "for epoch in range(nb_epochs + 1):\n",
        "\n",
        "    # H(x) 계산\n",
        "    prediction = model(x_train)\n",
        "\n",
        "    # cost 계산\n",
        "    cost = F.cross_entropy(prediction, y_train)\n",
        "\n",
        "    # cost로 H(x) 개선\n",
        "    optimizer.zero_grad()\n",
        "    cost.backward()\n",
        "    optimizer.step()\n",
        "    \n",
        "    # 20번마다 로그 출력\n",
        "    if epoch % 100 == 0:\n",
        "        print('Epoch {:4d}/{} Cost: {:.6f}'.format(\n",
        "            epoch, nb_epochs, cost.item()\n",
        "        ))"
      ],
      "metadata": {
        "colab": {
          "base_uri": "https://localhost:8080/"
        },
        "id": "adUWTKMLwEVS",
        "outputId": "8d862589-93d6-4f2c-a384-a2f6baa09164"
      },
      "execution_count": 23,
      "outputs": [
        {
          "output_type": "stream",
          "name": "stdout",
          "text": [
            "Epoch    0/1000 Cost: 1.966003\n",
            "Epoch  100/1000 Cost: 0.493434\n",
            "Epoch  200/1000 Cost: 0.335836\n",
            "Epoch  300/1000 Cost: 0.259504\n",
            "Epoch  400/1000 Cost: 0.212421\n",
            "Epoch  500/1000 Cost: 0.180159\n",
            "Epoch  600/1000 Cost: 0.156577\n",
            "Epoch  700/1000 Cost: 0.138541\n",
            "Epoch  800/1000 Cost: 0.124276\n",
            "Epoch  900/1000 Cost: 0.112697\n",
            "Epoch 1000/1000 Cost: 0.103105\n"
          ]
        }
      ]
    }
  ]
}