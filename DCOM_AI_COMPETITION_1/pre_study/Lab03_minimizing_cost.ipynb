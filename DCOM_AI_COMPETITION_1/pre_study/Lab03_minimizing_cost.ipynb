{
  "nbformat": 4,
  "nbformat_minor": 0,
  "metadata": {
    "colab": {
      "name": "Lab03_minimizing_cost.ipynb",
      "provenance": [],
      "collapsed_sections": []
    },
    "kernelspec": {
      "name": "python3",
      "display_name": "Python 3"
    },
    "language_info": {
      "name": "python"
    }
  },
  "cells": [
    {
      "cell_type": "markdown",
      "source": [
        "## **Imports**"
      ],
      "metadata": {
        "id": "NdSKFidsatvm"
      }
    },
    {
      "cell_type": "code",
      "execution_count": 1,
      "metadata": {
        "colab": {
          "base_uri": "https://localhost:8080/"
        },
        "id": "aiQNy3EAalWT",
        "outputId": "6a2ddcf1-24ed-465f-a351-9199985269fd"
      },
      "outputs": [
        {
          "output_type": "execute_result",
          "data": {
            "text/plain": [
              "<torch._C.Generator at 0x7ff8edfe3750>"
            ]
          },
          "metadata": {},
          "execution_count": 1
        }
      ],
      "source": [
        "import matplotlib.pyplot as plt\n",
        "import numpy as np\n",
        "import torch\n",
        "import torch.nn as nn\n",
        "import torch.nn.functional as F\n",
        "import torch.optim as optim\n",
        "\n",
        "# For reproducibility\n",
        "torch.manual_seed(1)"
      ]
    },
    {
      "cell_type": "markdown",
      "source": [
        "## **Data**"
      ],
      "metadata": {
        "id": "Vj-9wFlaazy8"
      }
    },
    {
      "cell_type": "code",
      "source": [
        "x_train = torch.FloatTensor([[1], [2], [3]])\n",
        "y_train = torch.FloatTensor([[1], [2], [3]])\n",
        "\n",
        "# Data\n",
        "plt.scatter(x_train, y_train)\n",
        "# Best-fit line\n",
        "xs = np.linspace(1, 3, 1000)\n",
        "plt.plot(xs, xs)"
      ],
      "metadata": {
        "colab": {
          "base_uri": "https://localhost:8080/",
          "height": 283
        },
        "id": "2lNP4DNra1D_",
        "outputId": "e52ca87a-f1da-46be-98fe-79b6ec1dea40"
      },
      "execution_count": 2,
      "outputs": [
        {
          "output_type": "execute_result",
          "data": {
            "text/plain": [
              "[<matplotlib.lines.Line2D at 0x7ff8ecfa7ed0>]"
            ]
          },
          "metadata": {},
          "execution_count": 2
        },
        {
          "output_type": "display_data",
          "data": {
            "text/plain": [
              "<Figure size 432x288 with 1 Axes>"
            ],
            "image/png": "[encoded data removed]"
          },
          "metadata": {
            "needs_background": "light"
          }
        }
      ]
    },
    {
      "cell_type": "markdown",
      "source": [
        "## **Cost by W, b**"
      ],
      "metadata": {
        "id": "ls6b0zgTa__w"
      }
    },
    {
      "cell_type": "code",
      "source": [
        "W_l = np.linspace(-5, 7, 1000)\n",
        "b_l = np.random.rand(1000)-0.5\n",
        "print(b_l[:4])\n",
        "cost_l = []\n",
        "for W in W_l:\n",
        "    hypothesis = W * x_train + b_l\n",
        "    cost = torch.mean((hypothesis - y_train) ** 2)\n",
        "\n",
        "    cost_l.append(cost.item())"
      ],
      "metadata": {
        "colab": {
          "base_uri": "https://localhost:8080/"
        },
        "id": "40RSc6ZubBE8",
        "outputId": "7d4f0a2e-9b59-4f0e-e4f9-f517e90d61ff"
      },
      "execution_count": 18,
      "outputs": [
        {
          "output_type": "stream",
          "name": "stdout",
          "text": [
            "[ 0.15708672 -0.14180251  0.19817337  0.44739913]\n"
          ]
        }
      ]
    },
    {
      "cell_type": "code",
      "source": [
        "plt.plot(W_l, cost_l)\n",
        "plt.xlabel('$W$')\n",
        "plt.ylabel('Cost')\n",
        "plt.show()"
      ],
      "metadata": {
        "colab": {
          "base_uri": "https://localhost:8080/",
          "height": 284
        },
        "id": "tZ6y9naXbC46",
        "outputId": "59942ce0-40ef-4ad3-9394-1ca38f17e4f0"
      },
      "execution_count": 19,
      "outputs": [
        {
          "output_type": "display_data",
          "data": {
            "text/plain": [
              "<Figure size 432x288 with 1 Axes>"
            ],
            "image/png": "[encoded data removed]"
          },
          "metadata": {
            "needs_background": "light"
          }
        }
      ]
    },
    {
      "cell_type": "markdown",
      "source": [
        "## **Gradient Descent by Hand**"
      ],
      "metadata": {
        "id": "Pye-YxEIcQaj"
      }
    },
    {
      "cell_type": "code",
      "source": [
        "W = 0\n",
        "b = 0\n",
        "gradient_w = torch.sum((W * x_train + b - y_train) * x_train)\n",
        "gradient_b = torch.sum(W * x_train + b - y_train)\n",
        "print(gradient_w)\n",
        "print(gradient_b)"
      ],
      "metadata": {
        "colab": {
          "base_uri": "https://localhost:8080/"
        },
        "id": "5EgtQSG2cT6w",
        "outputId": "0bcb4311-4be2-472c-901e-27621a9a113e"
      },
      "execution_count": 34,
      "outputs": [
        {
          "output_type": "stream",
          "name": "stdout",
          "text": [
            "tensor(-14.)\n",
            "tensor(-6.)\n"
          ]
        }
      ]
    },
    {
      "cell_type": "code",
      "source": [
        "lr = 0.1\n",
        "W = W - lr * gradient_w\n",
        "b = b - lr * gradient_b\n",
        "print(W)\n",
        "print(b)"
      ],
      "metadata": {
        "colab": {
          "base_uri": "https://localhost:8080/"
        },
        "id": "BcQpzHr8cYlL",
        "outputId": "11f17b42-a401-4ccd-96ee-ac9798cb5571"
      },
      "execution_count": 35,
      "outputs": [
        {
          "output_type": "stream",
          "name": "stdout",
          "text": [
            "tensor(1.4000)\n",
            "tensor(0.6000)\n"
          ]
        }
      ]
    },
    {
      "cell_type": "markdown",
      "source": [
        "Training"
      ],
      "metadata": {
        "id": "GL6KE9H-cfVq"
      }
    },
    {
      "cell_type": "code",
      "source": [
        "# 데이터\n",
        "x_train = torch.FloatTensor([[1], [2], [3]])\n",
        "y_train = torch.FloatTensor([[1], [2], [3]])\n",
        "# 모델 초기화\n",
        "W = torch.zeros(1)\n",
        "b = torch.zeros(1)\n",
        "# learning rate 설정\n",
        "lr = 0.1\n",
        "\n",
        "nb_epochs = 100\n",
        "for epoch in range(nb_epochs + 1):\n",
        "    \n",
        "    # H(x) 계산\n",
        "    hypothesis = x_train * W + b\n",
        "    \n",
        "    # cost gradient 계산\n",
        "    cost = torch.mean((hypothesis - y_train) ** 2)\n",
        "    gradient_W = torch.sum((W * x_train + b - y_train) * x_train)\n",
        "    gradient_b = torch.sum(W * x_train + b - y_train)\n",
        "\n",
        "    if epoch % 10 == 0:\n",
        "        print('Epoch {:4d}/{} W: {:.3f}, b: {:.3f}, Cost: {:.6f}'.format(\n",
        "            epoch, nb_epochs, W.item(), b.item(), cost.item()\n",
        "        ))\n",
        "\n",
        "    # cost gradient로 H(x) 개선\n",
        "    W -= lr * gradient_W\n",
        "    b -= lr * gradient_b"
      ],
      "metadata": {
        "colab": {
          "base_uri": "https://localhost:8080/"
        },
        "id": "gxSO2NpPce2N",
        "outputId": "f46ab9d7-52d0-4f9c-dcca-3d21f7b9e01d"
      },
      "execution_count": 44,
      "outputs": [
        {
          "output_type": "stream",
          "name": "stdout",
          "text": [
            "Epoch    0/100 W: 0.000, b: 0.000, Cost: 4.666667\n",
            "Epoch   10/100 W: 0.874, b: 0.249, Cost: 0.010637\n",
            "Epoch   20/100 W: 0.922, b: 0.177, Cost: 0.004486\n",
            "Epoch   30/100 W: 0.946, b: 0.122, Cost: 0.002152\n",
            "Epoch   40/100 W: 0.963, b: 0.085, Cost: 0.001032\n",
            "Epoch   50/100 W: 0.974, b: 0.059, Cost: 0.000495\n",
            "Epoch   60/100 W: 0.982, b: 0.041, Cost: 0.000238\n",
            "Epoch   70/100 W: 0.988, b: 0.028, Cost: 0.000114\n",
            "Epoch   80/100 W: 0.991, b: 0.020, Cost: 0.000055\n",
            "Epoch   90/100 W: 0.994, b: 0.014, Cost: 0.000026\n",
            "Epoch  100/100 W: 0.996, b: 0.009, Cost: 0.000013\n"
          ]
        }
      ]
    },
    {
      "cell_type": "markdown",
      "source": [
        "## **Training with Optim**"
      ],
      "metadata": {
        "id": "pvfeoSv6d6gs"
      }
    },
    {
      "cell_type": "code",
      "source": [
        "# 데이터\n",
        "x_train = torch.FloatTensor([[1], [2], [3]])\n",
        "y_train = torch.FloatTensor([[1], [2], [3]])\n",
        "# 모델 초기화\n",
        "W = torch.zeros(1, requires_grad=True)\n",
        "b = torch.zeros(1, requires_grad=True)\n",
        "# optimizer 설정\n",
        "optimizer = optim.SGD([W, b], lr=0.1)\n",
        "\n",
        "nb_epochs = 100\n",
        "for epoch in range(nb_epochs + 1):\n",
        "    \n",
        "    # H(x) 계산\n",
        "    hypothesis = x_train * W + b\n",
        "    \n",
        "    # cost 계산\n",
        "    cost = torch.mean((hypothesis - y_train) ** 2)\n",
        "\n",
        "    if epoch % 10 == 0:\n",
        "        print('Epoch {:4d}/{} W: {:.3f}, b: {:.3f}, Cost: {:.6f}'.format(\n",
        "            epoch, nb_epochs, W.item(), b.item(), cost.item()\n",
        "        ))\n",
        "\n",
        "    # cost로 H(x) 개선\n",
        "    optimizer.zero_grad()\n",
        "    cost.backward()\n",
        "    optimizer.step()"
      ],
      "metadata": {
        "colab": {
          "base_uri": "https://localhost:8080/"
        },
        "id": "CcSJ5YR4d7bH",
        "outputId": "3e2b3859-4925-48ff-f4f5-dc84e9067d06"
      },
      "execution_count": 45,
      "outputs": [
        {
          "output_type": "stream",
          "name": "stdout",
          "text": [
            "Epoch    0/100 W: 0.000, b: 0.000, Cost: 4.666667\n",
            "Epoch   10/100 W: 0.873, b: 0.289, Cost: 0.011979\n",
            "Epoch   20/100 W: 0.900, b: 0.227, Cost: 0.007363\n",
            "Epoch   30/100 W: 0.922, b: 0.178, Cost: 0.004526\n",
            "Epoch   40/100 W: 0.939, b: 0.139, Cost: 0.002782\n",
            "Epoch   50/100 W: 0.952, b: 0.109, Cost: 0.001710\n",
            "Epoch   60/100 W: 0.962, b: 0.086, Cost: 0.001051\n",
            "Epoch   70/100 W: 0.970, b: 0.067, Cost: 0.000646\n",
            "Epoch   80/100 W: 0.977, b: 0.053, Cost: 0.000397\n",
            "Epoch   90/100 W: 0.982, b: 0.041, Cost: 0.000244\n",
            "Epoch  100/100 W: 0.986, b: 0.032, Cost: 0.000150\n"
          ]
        }
      ]
    }
  ]
}