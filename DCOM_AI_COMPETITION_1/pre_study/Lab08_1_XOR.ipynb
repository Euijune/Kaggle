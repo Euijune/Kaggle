{
  "nbformat": 4,
  "nbformat_minor": 0,
  "metadata": {
    "colab": {
      "name": "Lab08_1_XOR.ipynb",
      "provenance": [],
      "collapsed_sections": []
    },
    "kernelspec": {
      "name": "python3",
      "display_name": "Python 3"
    },
    "language_info": {
      "name": "python"
    }
  },
  "cells": [
    {
      "cell_type": "markdown",
      "source": [
        "## **Imports**"
      ],
      "metadata": {
        "id": "M9LwNbgRX6xt"
      }
    },
    {
      "cell_type": "code",
      "execution_count": 1,
      "metadata": {
        "id": "TnKiW01TXXA5"
      },
      "outputs": [],
      "source": [
        "import torch"
      ]
    },
    {
      "cell_type": "code",
      "source": [
        "device = 'cuda' if torch.cuda.is_available() else 'cpu'\n",
        "\n",
        "# for reproducibility\n",
        "torch.manual_seed(777)\n",
        "if device == 'cuda':\n",
        "    torch.cuda.manual_seed_all(777)"
      ],
      "metadata": {
        "id": "G6ix-Ff2X_3A"
      },
      "execution_count": 2,
      "outputs": []
    },
    {
      "cell_type": "markdown",
      "source": [
        "## **Data**"
      ],
      "metadata": {
        "id": "58nEaffdYBci"
      }
    },
    {
      "cell_type": "code",
      "source": [
        "X = torch.FloatTensor([[0, 0], [0, 1], [1, 0], [1, 1]]).to(device)\n",
        "Y = torch.FloatTensor([[0], [1], [1], [0]]).to(device)"
      ],
      "metadata": {
        "id": "bvd1zkedYCWo"
      },
      "execution_count": 3,
      "outputs": []
    },
    {
      "cell_type": "markdown",
      "source": [
        "## **Define train & accuracy computation function**"
      ],
      "metadata": {
        "id": "-T6WI9A3YQ9t"
      }
    },
    {
      "cell_type": "code",
      "source": [
        "def train(model, optimizer, criterion):\n",
        "    for step in range(10001):\n",
        "        hypothesis = model(X)\n",
        "\n",
        "        # cost/loss function\n",
        "        cost = criterion(hypothesis, Y)\n",
        "\n",
        "        optimizer.zero_grad()\n",
        "        cost.backward()\n",
        "        optimizer.step()\n",
        "\n",
        "        if step % 1000 == 0:\n",
        "            print(f'Step : {step}, Cost : {cost.item():.6f}')"
      ],
      "metadata": {
        "id": "-nIvwDEvYXRw"
      },
      "execution_count": 16,
      "outputs": []
    },
    {
      "cell_type": "code",
      "source": [
        "# Accuracy computation\n",
        "# True if hypothesis>0.5 else False\n",
        "\n",
        "def compute_accuracy(model, X, Y):\n",
        "    with torch.no_grad():\n",
        "        hypothesis = model(X)\n",
        "        predicted = (hypothesis > 0.5).float()\n",
        "        accuracy = (predicted == Y).float().mean()\n",
        "        print(\n",
        "            'Hypothesis:\\n', hypothesis.detach().cpu().numpy(), \n",
        "            '\\nPredict:\\n', predicted.detach().cpu().numpy(),\n",
        "            '\\nGround Truth:\\n', Y.cpu().numpy(),\n",
        "            '\\nAccuracy:\\n', accuracy.item()\n",
        "            )"
      ],
      "metadata": {
        "id": "5fJ3pbpJZE2i"
      },
      "execution_count": 5,
      "outputs": []
    },
    {
      "cell_type": "markdown",
      "source": [
        "## **Model 1 - Only One Linear Layer**"
      ],
      "metadata": {
        "id": "Csaj6vInYECK"
      }
    },
    {
      "cell_type": "code",
      "source": [
        "# nn layers\n",
        "linear = torch.nn.Linear(2, 1, bias=True)\n",
        "sigmoid = torch.nn.Sigmoid()\n",
        "\n",
        "# model\n",
        "model = torch.nn.Sequential(linear, sigmoid).to(device)\n",
        "\n",
        "# define cost/loss & optimizer\n",
        "criterion = torch.nn.BCELoss().to(device)\n",
        "optimizer = torch.optim.SGD(model.parameters(), lr=1)"
      ],
      "metadata": {
        "id": "4ska1g8gYDuS"
      },
      "execution_count": 6,
      "outputs": []
    },
    {
      "cell_type": "code",
      "source": [
        "train(model, optimizer, criterion)"
      ],
      "metadata": {
        "colab": {
          "base_uri": "https://localhost:8080/"
        },
        "id": "7oqVJuddYsEC",
        "outputId": "9c263f7a-21a7-4261-a243-8a442697fc60"
      },
      "execution_count": 7,
      "outputs": [
        {
          "output_type": "stream",
          "name": "stdout",
          "text": [
            "Step : 0, Cost : 0.727397\n",
            "Step : 1000, Cost : 0.693147\n",
            "Step : 2000, Cost : 0.693147\n",
            "Step : 3000, Cost : 0.693147\n",
            "Step : 4000, Cost : 0.693147\n",
            "Step : 5000, Cost : 0.693147\n",
            "Step : 6000, Cost : 0.693147\n",
            "Step : 7000, Cost : 0.693147\n",
            "Step : 8000, Cost : 0.693147\n",
            "Step : 9000, Cost : 0.693147\n",
            "Step : 10000, Cost : 0.693147\n"
          ]
        }
      ]
    },
    {
      "cell_type": "code",
      "source": [
        "compute_accuracy(model, X, Y)"
      ],
      "metadata": {
        "colab": {
          "base_uri": "https://localhost:8080/"
        },
        "id": "ErFNWTliZhse",
        "outputId": "73b46138-5fa0-453e-e222-7e510992d4e1"
      },
      "execution_count": 8,
      "outputs": [
        {
          "output_type": "stream",
          "name": "stdout",
          "text": [
            "Hypothesis:\n",
            " [[0.5]\n",
            " [0.5]\n",
            " [0.5]\n",
            " [0.5]] \n",
            "Predict:\n",
            " [[0.]\n",
            " [0.]\n",
            " [0.]\n",
            " [0.]] \n",
            "Ground Truth:\n",
            " [[0.]\n",
            " [1.]\n",
            " [1.]\n",
            " [0.]] \n",
            "Accuracy:\n",
            " 0.5\n"
          ]
        }
      ]
    },
    {
      "cell_type": "markdown",
      "source": [
        "## **Model 2 - Two Linear Layers**"
      ],
      "metadata": {
        "id": "5dKiRNbxaLx_"
      }
    },
    {
      "cell_type": "code",
      "source": [
        "# nn layers\n",
        "linear1 = torch.nn.Linear(2, 2, bias=True)\n",
        "linear2 = torch.nn.Linear(2, 1, bias=True)\n",
        "sigmoid = torch.nn.Sigmoid()\n",
        "\n",
        "# model\n",
        "model2 = torch.nn.Sequential(linear1, sigmoid, linear2, sigmoid).to(device)\n",
        "\n",
        "# define cost/loss & optimizer\n",
        "criterion = torch.nn.BCELoss().to(device)\n",
        "optimizer = torch.optim.SGD(model2.parameters(), lr=1)  # modified learning rate from 0.1 to 1"
      ],
      "metadata": {
        "id": "HxmfzpQeaUVA"
      },
      "execution_count": 13,
      "outputs": []
    },
    {
      "cell_type": "code",
      "source": [
        "train(model2, optimizer, criterion)"
      ],
      "metadata": {
        "colab": {
          "base_uri": "https://localhost:8080/"
        },
        "id": "LE1Zl1Ayab6v",
        "outputId": "24620ffc-0e82-4ab3-c8a5-179e100e41ad"
      },
      "execution_count": 14,
      "outputs": [
        {
          "output_type": "stream",
          "name": "stdout",
          "text": [
            "Step : 0, Cost : 0.861447\n",
            "Step : 1000, Cost : 0.036910\n",
            "Step : 2000, Cost : 0.007736\n",
            "Step : 3000, Cost : 0.004260\n",
            "Step : 4000, Cost : 0.002930\n",
            "Step : 5000, Cost : 0.002230\n",
            "Step : 6000, Cost : 0.001799\n",
            "Step : 7000, Cost : 0.001506\n",
            "Step : 8000, Cost : 0.001296\n",
            "Step : 9000, Cost : 0.001136\n",
            "Step : 10000, Cost : 0.001012\n"
          ]
        }
      ]
    },
    {
      "cell_type": "code",
      "source": [
        "compute_accuracy(model2, X, Y)"
      ],
      "metadata": {
        "colab": {
          "base_uri": "https://localhost:8080/"
        },
        "id": "XcQ8I5LObObI",
        "outputId": "81e3e617-77ea-4efb-f01e-84d8c25f7eab"
      },
      "execution_count": 15,
      "outputs": [
        {
          "output_type": "stream",
          "name": "stdout",
          "text": [
            "Hypothesis:\n",
            " [[1.3017104e-03]\n",
            " [9.9909627e-01]\n",
            " [9.9909198e-01]\n",
            " [9.3076332e-04]] \n",
            "Predict:\n",
            " [[0.]\n",
            " [1.]\n",
            " [1.]\n",
            " [0.]] \n",
            "Ground Truth:\n",
            " [[0.]\n",
            " [1.]\n",
            " [1.]\n",
            " [0.]] \n",
            "Accuracy:\n",
            " 1.0\n"
          ]
        }
      ]
    },
    {
      "cell_type": "markdown",
      "source": [
        "## **Model 3 - Four Linear Layers**"
      ],
      "metadata": {
        "id": "rgg7GVr_cCtB"
      }
    },
    {
      "cell_type": "code",
      "source": [
        "# nn layers\n",
        "linear1 = torch.nn.Linear(2, 10, bias=True)\n",
        "linear2 = torch.nn.Linear(10, 10, bias=True)\n",
        "linear3 = torch.nn.Linear(10, 10, bias=True)\n",
        "linear4 = torch.nn.Linear(10, 1, bias=True)\n",
        "sigmoid = torch.nn.Sigmoid()\n",
        "\n",
        "# model\n",
        "model3 = torch.nn.Sequential(linear1, sigmoid, linear2, sigmoid, linear3, sigmoid, linear4, sigmoid).to(device)\n",
        "\n",
        "# define cost/loss & optimizer\n",
        "criterion = torch.nn.BCELoss().to(device)\n",
        "optimizer = torch.optim.SGD(model3.parameters(), lr=1)  # modified learning rate from 0.1 to 1"
      ],
      "metadata": {
        "id": "t1uznK99cLqo"
      },
      "execution_count": 17,
      "outputs": []
    },
    {
      "cell_type": "code",
      "source": [
        "train(model3, optimizer, criterion)"
      ],
      "metadata": {
        "colab": {
          "base_uri": "https://localhost:8080/"
        },
        "id": "moi3H-ugcTJ2",
        "outputId": "8dbb69e4-23b5-428c-ba37-ea45e855a8ff"
      },
      "execution_count": 19,
      "outputs": [
        {
          "output_type": "stream",
          "name": "stdout",
          "text": [
            "Step : 0, Cost : 0.694419\n",
            "Step : 1000, Cost : 0.693118\n",
            "Step : 2000, Cost : 0.693045\n",
            "Step : 3000, Cost : 0.692499\n",
            "Step : 4000, Cost : 0.009837\n",
            "Step : 5000, Cost : 0.000721\n",
            "Step : 6000, Cost : 0.000347\n",
            "Step : 7000, Cost : 0.000225\n",
            "Step : 8000, Cost : 0.000165\n",
            "Step : 9000, Cost : 0.000130\n",
            "Step : 10000, Cost : 0.000106\n"
          ]
        }
      ]
    },
    {
      "cell_type": "code",
      "source": [
        "compute_accuracy(model, X, Y)"
      ],
      "metadata": {
        "colab": {
          "base_uri": "https://localhost:8080/"
        },
        "id": "lTGVZ1zBcbBe",
        "outputId": "10dbdcae-c73a-48e6-a5fb-e6cb52db1481"
      },
      "execution_count": 20,
      "outputs": [
        {
          "output_type": "stream",
          "name": "stdout",
          "text": [
            "Hypothesis:\n",
            " [[0.5]\n",
            " [0.5]\n",
            " [0.5]\n",
            " [0.5]] \n",
            "Predict:\n",
            " [[0.]\n",
            " [0.]\n",
            " [0.]\n",
            " [0.]] \n",
            "Ground Truth:\n",
            " [[0.]\n",
            " [1.]\n",
            " [1.]\n",
            " [0.]] \n",
            "Accuracy:\n",
            " 0.5\n"
          ]
        }
      ]
    }
  ]
}