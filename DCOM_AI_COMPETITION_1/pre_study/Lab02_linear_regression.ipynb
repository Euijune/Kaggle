{
  "nbformat": 4,
  "nbformat_minor": 0,
  "metadata": {
    "colab": {
      "name": "Lab02_linear_regression.ipynb",
      "provenance": [],
      "collapsed_sections": []
    },
    "kernelspec": {
      "name": "python3",
      "display_name": "Python 3"
    },
    "language_info": {
      "name": "python"
    }
  },
  "cells": [
    {
      "cell_type": "markdown",
      "source": [
        "# **Import**"
      ],
      "metadata": {
        "id": "5aQfen_mUVk0"
      }
    },
    {
      "cell_type": "code",
      "execution_count": 1,
      "metadata": {
        "colab": {
          "base_uri": "https://localhost:8080/"
        },
        "id": "UYefgLahUFLo",
        "outputId": "913f4d62-dbd0-4ceb-d7d2-08be841044e6"
      },
      "outputs": [
        {
          "output_type": "execute_result",
          "data": {
            "text/plain": [
              "<torch._C.Generator at 0x7fd69d789850>"
            ]
          },
          "metadata": {},
          "execution_count": 1
        }
      ],
      "source": [
        "import torch\n",
        "import torch.nn as nn\n",
        "import torch.nn.functional as F\n",
        "import torch.optim as optim\n",
        "\n",
        "# For reproducibility\n",
        "torch.manual_seed(1)"
      ]
    },
    {
      "cell_type": "markdown",
      "source": [
        "# **Data**"
      ],
      "metadata": {
        "id": "Fz_7On5yUXgK"
      }
    },
    {
      "cell_type": "code",
      "source": [
        "x_train = torch.FloatTensor([[1], [2], [3]])\n",
        "y_train = torch.FloatTensor([[1], [2], [3]])\n",
        "print(x_train.shape, y_train.shape)"
      ],
      "metadata": {
        "colab": {
          "base_uri": "https://localhost:8080/"
        },
        "id": "ArwhgPvoUYul",
        "outputId": "2bca0218-b24c-4a72-96f4-6cf1f6bf5347"
      },
      "execution_count": 2,
      "outputs": [
        {
          "output_type": "stream",
          "name": "stdout",
          "text": [
            "torch.Size([3, 1]) torch.Size([3, 1])\n"
          ]
        }
      ]
    },
    {
      "cell_type": "markdown",
      "source": [
        "### Weight Initialization"
      ],
      "metadata": {
        "id": "3VlgTtHRUktY"
      }
    },
    {
      "cell_type": "code",
      "source": [
        "W = torch.zeros(1, requires_grad=True)\n",
        "b = torch.zeros(1, requires_grad=True)\n",
        "print(W)\n",
        "print(b)"
      ],
      "metadata": {
        "colab": {
          "base_uri": "https://localhost:8080/"
        },
        "id": "HQOqMVMeUofd",
        "outputId": "91a96e6a-501f-49ce-b667-e6120d5cc1a5"
      },
      "execution_count": 3,
      "outputs": [
        {
          "output_type": "stream",
          "name": "stdout",
          "text": [
            "tensor([0.], requires_grad=True)\n",
            "tensor([0.], requires_grad=True)\n"
          ]
        }
      ]
    },
    {
      "cell_type": "markdown",
      "source": [
        "# **Hypothesis**"
      ],
      "metadata": {
        "id": "Xp8JD_PqUt3d"
      }
    },
    {
      "cell_type": "code",
      "source": [
        "hypothesis = x_train * W + b\n",
        "print(hypothesis) # 현재는 y = 0*x + 0에 대한 출력이므로 0, 0, 0"
      ],
      "metadata": {
        "colab": {
          "base_uri": "https://localhost:8080/"
        },
        "id": "2iF7kgL6UwHP",
        "outputId": "b5870ea9-9986-4d84-99d3-b843a53fe09c"
      },
      "execution_count": 4,
      "outputs": [
        {
          "output_type": "stream",
          "name": "stdout",
          "text": [
            "tensor([[0.],\n",
            "        [0.],\n",
            "        [0.]], grad_fn=<AddBackward0>)\n"
          ]
        }
      ]
    },
    {
      "cell_type": "markdown",
      "source": [
        "# **Cost (=loss)**"
      ],
      "metadata": {
        "id": "AevJwqhEU2Gv"
      }
    },
    {
      "cell_type": "code",
      "source": [
        "print(hypothesis - y_train)"
      ],
      "metadata": {
        "colab": {
          "base_uri": "https://localhost:8080/"
        },
        "id": "_YK25Lr3U5F8",
        "outputId": "88936496-5256-4001-f248-b0842198f66a"
      },
      "execution_count": 5,
      "outputs": [
        {
          "output_type": "stream",
          "name": "stdout",
          "text": [
            "tensor([[-1.],\n",
            "        [-2.],\n",
            "        [-3.]], grad_fn=<SubBackward0>)\n"
          ]
        }
      ]
    },
    {
      "cell_type": "code",
      "source": [
        "cost = torch.mean((hypothesis - y_train) ** 2)\n",
        "print(cost)"
      ],
      "metadata": {
        "colab": {
          "base_uri": "https://localhost:8080/"
        },
        "id": "KLSSE87nU9pY",
        "outputId": "e6e1316a-8d78-4d68-c0ed-16dfe6f29a15"
      },
      "execution_count": 6,
      "outputs": [
        {
          "output_type": "stream",
          "name": "stdout",
          "text": [
            "tensor(4.6667, grad_fn=<MeanBackward0>)\n"
          ]
        }
      ]
    },
    {
      "cell_type": "markdown",
      "source": [
        "# Stochastic Gradient Descent"
      ],
      "metadata": {
        "id": "jqzKk73QVCV6"
      }
    },
    {
      "cell_type": "markdown",
      "source": [
        "gradient descent:            한 번의 step마다 모든 data 확인\\\n",
        "stochastic gradient descent: 한 번의 step마다 하나의 mini batch 확인"
      ],
      "metadata": {
        "id": "0EkGVm8qVjVK"
      }
    },
    {
      "cell_type": "code",
      "source": [
        "optimizer = optim.SGD([W, b], lr=0.01)\n",
        "print(W)\n",
        "print(b)"
      ],
      "metadata": {
        "colab": {
          "base_uri": "https://localhost:8080/"
        },
        "id": "ktAVC3iIVXo5",
        "outputId": "3d341267-d9f2-4483-fd9c-ae7999b279ae"
      },
      "execution_count": 7,
      "outputs": [
        {
          "output_type": "stream",
          "name": "stdout",
          "text": [
            "tensor([0.], requires_grad=True)\n",
            "tensor([0.], requires_grad=True)\n"
          ]
        }
      ]
    },
    {
      "cell_type": "code",
      "source": [
        "optimizer.zero_grad()\n",
        "cost.backward()\n",
        "optimizer.step()"
      ],
      "metadata": {
        "id": "M4nu4I3hVJNM"
      },
      "execution_count": 8,
      "outputs": []
    },
    {
      "cell_type": "code",
      "source": [
        "print(W)\n",
        "print(b)"
      ],
      "metadata": {
        "colab": {
          "base_uri": "https://localhost:8080/"
        },
        "id": "xZFxKxUCVrFa",
        "outputId": "60b1c99b-d705-4248-edf8-1c0b467706d8"
      },
      "execution_count": 9,
      "outputs": [
        {
          "output_type": "stream",
          "name": "stdout",
          "text": [
            "tensor([0.0933], requires_grad=True)\n",
            "tensor([0.0400], requires_grad=True)\n"
          ]
        }
      ]
    },
    {
      "cell_type": "code",
      "source": [
        "hypothesis = x_train * W + b\n",
        "print(hypothesis)   #  better than before hypothesis!"
      ],
      "metadata": {
        "colab": {
          "base_uri": "https://localhost:8080/"
        },
        "id": "IQ8xa-kyV8Ei",
        "outputId": "a60fe89c-3ad3-4368-fa81-6a28016ed33d"
      },
      "execution_count": 10,
      "outputs": [
        {
          "output_type": "stream",
          "name": "stdout",
          "text": [
            "tensor([[0.1333],\n",
            "        [0.2267],\n",
            "        [0.3200]], grad_fn=<AddBackward0>)\n"
          ]
        }
      ]
    },
    {
      "cell_type": "code",
      "source": [
        "cost = torch.mean((hypothesis - y_train) ** 2)\n",
        "print(cost) # 4.6667 -> 3.6927"
      ],
      "metadata": {
        "colab": {
          "base_uri": "https://localhost:8080/"
        },
        "id": "NV93cmbWWVmV",
        "outputId": "1b534248-321c-4760-c385-66f4d983147d"
      },
      "execution_count": 11,
      "outputs": [
        {
          "output_type": "stream",
          "name": "stdout",
          "text": [
            "tensor(3.6927, grad_fn=<MeanBackward0>)\n"
          ]
        }
      ]
    },
    {
      "cell_type": "markdown",
      "source": [
        "# **Traning with Full Code**"
      ],
      "metadata": {
        "id": "1Kmdn1YVWlD8"
      }
    },
    {
      "cell_type": "code",
      "source": [
        "# 데이터\n",
        "x_train = torch.FloatTensor([[1], [2], [3]])\n",
        "y_train = torch.FloatTensor([[1], [2], [3]])\n",
        "# 모델 초기화\n",
        "W = torch.zeros(1, requires_grad=True)\n",
        "b = torch.zeros(1, requires_grad=True)\n",
        "# optimizer 설정\n",
        "optimizer = optim.SGD([W, b], lr=0.01)\n",
        "\n",
        "nb_epochs = 3000\n",
        "for epoch in range(nb_epochs + 1):\n",
        "    \n",
        "    # H(x) 계산\n",
        "    hypothesis = x_train * W + b\n",
        "    \n",
        "    # cost 계산\n",
        "    cost = torch.mean((hypothesis - y_train) ** 2)\n",
        "\n",
        "    # cost로 H(x) 개선\n",
        "    optimizer.zero_grad()\n",
        "    cost.backward()     # W와 b에 대한 미분값(기울기) 계산\n",
        "    optimizer.step()    # W와 b에 기울기*lr 값만큼 반영\n",
        "\n",
        "    # 300번마다 로그 출력\n",
        "    if epoch % 300 == 0:\n",
        "        print('Epoch {:4d}/{} W: {:.3f}, b: {:.3f} Cost: {:.6f}'.format(\n",
        "            epoch, nb_epochs, W.item(), b.item(), cost.item()\n",
        "        ))"
      ],
      "metadata": {
        "colab": {
          "base_uri": "https://localhost:8080/"
        },
        "id": "zavPI3UdWnl6",
        "outputId": "64c3feb3-3c7c-431b-84eb-b835cb555507"
      },
      "execution_count": 12,
      "outputs": [
        {
          "output_type": "stream",
          "name": "stdout",
          "text": [
            "Epoch    0/3000 W: 0.093, b: 0.040 Cost: 4.666667\n",
            "Epoch  300/3000 W: 0.921, b: 0.179 Cost: 0.004598\n",
            "Epoch  600/3000 W: 0.962, b: 0.087 Cost: 0.001085\n",
            "Epoch  900/3000 W: 0.981, b: 0.042 Cost: 0.000256\n",
            "Epoch 1200/3000 W: 0.991, b: 0.020 Cost: 0.000060\n",
            "Epoch 1500/3000 W: 0.996, b: 0.010 Cost: 0.000014\n",
            "Epoch 1800/3000 W: 0.998, b: 0.005 Cost: 0.000003\n",
            "Epoch 2100/3000 W: 0.999, b: 0.002 Cost: 0.000001\n",
            "Epoch 2400/3000 W: 0.999, b: 0.001 Cost: 0.000000\n",
            "Epoch 2700/3000 W: 1.000, b: 0.001 Cost: 0.000000\n",
            "Epoch 3000/3000 W: 1.000, b: 0.000 Cost: 0.000000\n"
          ]
        }
      ]
    },
    {
      "cell_type": "markdown",
      "source": [
        "# **High-level Implementation with nn.Module**"
      ],
      "metadata": {
        "id": "-L9FI234XFdQ"
      }
    },
    {
      "cell_type": "code",
      "source": [
        "x_train = torch.FloatTensor([[1], [2], [3]])\n",
        "y_train = torch.FloatTensor([[1], [2], [3]])"
      ],
      "metadata": {
        "id": "FXu-bJbtXLEk"
      },
      "execution_count": 13,
      "outputs": []
    },
    {
      "cell_type": "code",
      "source": [
        "class LinearRegressionModel(nn.Module):\n",
        "    def __init__(self):\n",
        "        super().__init__()\n",
        "        self.linear = nn.Linear(1, 1)   # (input_dim, output_dim)\n",
        "\n",
        "    def forward(self, x):\n",
        "        return self.linear(x)"
      ],
      "metadata": {
        "id": "1ADH4zPPXQSI"
      },
      "execution_count": 14,
      "outputs": []
    },
    {
      "cell_type": "code",
      "source": [
        "model = LinearRegressionModel()"
      ],
      "metadata": {
        "id": "8z_O7X4vXUT3"
      },
      "execution_count": 15,
      "outputs": []
    },
    {
      "cell_type": "code",
      "source": [
        "hypothesis = model(x_train)\n",
        "print(hypothesis)"
      ],
      "metadata": {
        "colab": {
          "base_uri": "https://localhost:8080/"
        },
        "id": "Xbvls1l1XVnM",
        "outputId": "a4af75d1-be70-46ab-a7bb-53900e8fbde2"
      },
      "execution_count": 16,
      "outputs": [
        {
          "output_type": "stream",
          "name": "stdout",
          "text": [
            "tensor([[0.0739],\n",
            "        [0.5891],\n",
            "        [1.1044]], grad_fn=<AddmmBackward0>)\n"
          ]
        }
      ]
    },
    {
      "cell_type": "code",
      "source": [
        "cost = F.mse_loss(hypothesis, y_train)\n",
        "print(cost)"
      ],
      "metadata": {
        "colab": {
          "base_uri": "https://localhost:8080/"
        },
        "id": "RV03ozcyXfLU",
        "outputId": "0a78e589-2730-4c05-b315-4b1fc37f5943"
      },
      "execution_count": 17,
      "outputs": [
        {
          "output_type": "stream",
          "name": "stdout",
          "text": [
            "tensor(2.1471, grad_fn=<MseLossBackward0>)\n"
          ]
        }
      ]
    },
    {
      "cell_type": "code",
      "source": [
        "optimizer = optim.SGD(model.parameters(), lr=0.01)\n",
        "\n",
        "optimizer.zero_grad()\n",
        "cost.backward()\n",
        "optimizer.step()\n",
        "\n",
        "hypothesis = model(x_train)\n",
        "print(hypothesis)"
      ],
      "metadata": {
        "colab": {
          "base_uri": "https://localhost:8080/"
        },
        "id": "LoAoLsbcXk0W",
        "outputId": "3d0e9dbc-c7a2-4ce8-b6c7-cee8ed0760c3"
      },
      "execution_count": 18,
      "outputs": [
        {
          "output_type": "stream",
          "name": "stdout",
          "text": [
            "tensor([[0.1650],\n",
            "        [0.7432],\n",
            "        [1.3213]], grad_fn=<AddmmBackward0>)\n"
          ]
        }
      ]
    },
    {
      "cell_type": "markdown",
      "source": [
        "# **Traning with Full Code**"
      ],
      "metadata": {
        "id": "G_dS-PCuX-Iq"
      }
    },
    {
      "cell_type": "code",
      "source": [
        "# 데이터\n",
        "x_train = torch.FloatTensor([[1], [2], [3]])\n",
        "y_train = torch.FloatTensor([[1], [2], [3]])\n",
        "# 모델 초기화\n",
        "model = LinearRegressionModel()\n",
        "# optimizer 설정\n",
        "optimizer = optim.SGD(model.parameters(), lr=0.01)\n",
        "\n",
        "nb_epochs = 3000\n",
        "for epoch in range(nb_epochs + 1):\n",
        "    \n",
        "    # H(x) 계산\n",
        "    prediction = model(x_train)\n",
        "    \n",
        "    # cost 계산\n",
        "    cost = F.mse_loss(prediction, y_train)\n",
        "    \n",
        "    # cost로 H(x) 개선\n",
        "    optimizer.zero_grad()\n",
        "    cost.backward()\n",
        "    optimizer.step()\n",
        "    \n",
        "    # 100번마다 로그 출력\n",
        "    if epoch % 300 == 0:\n",
        "        params = list(model.parameters())\n",
        "        W = params[0].item()\n",
        "        b = params[1].item()\n",
        "        print('Epoch {:4d}/{} W: {:.3f}, b: {:.3f} Cost: {:.6f}'.format(\n",
        "            epoch, nb_epochs, W, b, cost.item()\n",
        "        ))"
      ],
      "metadata": {
        "colab": {
          "base_uri": "https://localhost:8080/"
        },
        "id": "zkKyh4RmYBTB",
        "outputId": "8811dbb9-2aa7-4a84-c6d5-89b5bb108388"
      },
      "execution_count": 19,
      "outputs": [
        {
          "output_type": "stream",
          "name": "stdout",
          "text": [
            "Epoch    0/3000 W: -0.101, b: 0.508 Cost: 4.630286\n",
            "Epoch  300/3000 W: 0.822, b: 0.404 Cost: 0.023505\n",
            "Epoch  600/3000 W: 0.914, b: 0.196 Cost: 0.005546\n",
            "Epoch  900/3000 W: 0.958, b: 0.095 Cost: 0.001309\n",
            "Epoch 1200/3000 W: 0.980, b: 0.046 Cost: 0.000309\n",
            "Epoch 1500/3000 W: 0.990, b: 0.022 Cost: 0.000073\n",
            "Epoch 1800/3000 W: 0.995, b: 0.011 Cost: 0.000017\n",
            "Epoch 2100/3000 W: 0.998, b: 0.005 Cost: 0.000004\n",
            "Epoch 2400/3000 W: 0.999, b: 0.003 Cost: 0.000001\n",
            "Epoch 2700/3000 W: 0.999, b: 0.001 Cost: 0.000000\n",
            "Epoch 3000/3000 W: 1.000, b: 0.001 Cost: 0.000000\n"
          ]
        }
      ]
    }
  ]
}