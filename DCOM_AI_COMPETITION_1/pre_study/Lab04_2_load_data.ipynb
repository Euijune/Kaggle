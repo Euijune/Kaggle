{
  "nbformat": 4,
  "nbformat_minor": 0,
  "metadata": {
    "colab": {
      "name": "Lab04_2_load_data.ipynb",
      "provenance": [],
      "collapsed_sections": [
        "KwCX9rBE2cOF",
        "xjwpLsOu2sgA",
        "49ZFwCID4geL",
        "0Jq1TQkk4w1y"
      ]
    },
    "kernelspec": {
      "name": "python3",
      "display_name": "Python 3"
    },
    "language_info": {
      "name": "python"
    }
  },
  "cells": [
    {
      "cell_type": "markdown",
      "source": [
        "## **Imports**"
      ],
      "metadata": {
        "id": "1SGLJVLp23qg"
      }
    },
    {
      "cell_type": "code",
      "source": [
        "from google.colab import drive\n",
        "drive.mount('/content/drive')"
      ],
      "metadata": {
        "colab": {
          "base_uri": "https://localhost:8080/"
        },
        "id": "KBo2JGKI287U",
        "outputId": "f0d3656a-cff0-41cd-de25-dffd33906aca"
      },
      "execution_count": 1,
      "outputs": [
        {
          "output_type": "stream",
          "name": "stdout",
          "text": [
            "Drive already mounted at /content/drive; to attempt to forcibly remount, call drive.mount(\"/content/drive\", force_remount=True).\n"
          ]
        }
      ]
    },
    {
      "cell_type": "code",
      "source": [
        "import numpy as np\n",
        "import torch\n",
        "import torch.nn as nn\n",
        "import torch.nn.functional as F\n",
        "import torch.optim as optim\n",
        "from torch.utils.data import Dataset, DataLoader\n",
        "\n",
        "# For reproducibility\n",
        "torch.manual_seed(1)"
      ],
      "metadata": {
        "colab": {
          "base_uri": "https://localhost:8080/"
        },
        "id": "mxFxjjEl25ht",
        "outputId": "e80b0a1d-b0bb-40c9-c3f5-d20d86678f2a"
      },
      "execution_count": 30,
      "outputs": [
        {
          "output_type": "execute_result",
          "data": {
            "text/plain": [
              "<torch._C.Generator at 0x7fd7d7950630>"
            ]
          },
          "metadata": {},
          "execution_count": 30
        }
      ]
    },
    {
      "cell_type": "code",
      "source": [
        "cd /content/drive/Shareddrives/Data/Kaggle/D.COM_AI_COMPETITION_1th/pre_study"
      ],
      "metadata": {
        "colab": {
          "base_uri": "https://localhost:8080/"
        },
        "id": "71cmi9o43UD1",
        "outputId": "661f6548-1aa3-49ec-830b-ec0466b767d0"
      },
      "execution_count": 7,
      "outputs": [
        {
          "output_type": "stream",
          "name": "stdout",
          "text": [
            "/content/drive/Shareddrives/Data/Kaggle/ D.COM_AI_COMPETITION_1th/pre_study\n"
          ]
        }
      ]
    },
    {
      "cell_type": "markdown",
      "source": [
        "## **Slicing Array**"
      ],
      "metadata": {
        "id": "KwCX9rBE2cOF"
      }
    },
    {
      "cell_type": "code",
      "execution_count": 4,
      "metadata": {
        "colab": {
          "base_uri": "https://localhost:8080/"
        },
        "id": "yXJ7AqBu2PlY",
        "outputId": "3d4af8d0-bc24-43a4-8f9d-116f0ab75cb5"
      },
      "outputs": [
        {
          "output_type": "stream",
          "name": "stdout",
          "text": [
            "[0, 1, 8, 9, 4]\n"
          ]
        }
      ],
      "source": [
        "nums = [0, 1, 2, 3, 4]\n",
        "\n",
        "nums[2:4] = [8, 9]  # assign\n",
        "print(nums)"
      ]
    },
    {
      "cell_type": "markdown",
      "source": [
        "## **Load data from ```.csv``` file**"
      ],
      "metadata": {
        "id": "xjwpLsOu2sgA"
      }
    },
    {
      "cell_type": "code",
      "source": [
        "xy = np.loadtxt('data/data-01-test-score.csv', delimiter=',', dtype=np.float32)"
      ],
      "metadata": {
        "id": "Hwqw4qq327Ed"
      },
      "execution_count": 8,
      "outputs": []
    },
    {
      "cell_type": "code",
      "source": [
        "print(xy[:3])"
      ],
      "metadata": {
        "colab": {
          "base_uri": "https://localhost:8080/"
        },
        "id": "UpERVgSc3_Cw",
        "outputId": "fc7f7b3d-a56d-4b05-bdfd-e0bb9f391ba0"
      },
      "execution_count": 16,
      "outputs": [
        {
          "output_type": "stream",
          "name": "stdout",
          "text": [
            "[[ 73.  80.  75. 152.]\n",
            " [ 93.  88.  93. 185.]\n",
            " [ 89.  91.  90. 180.]]\n"
          ]
        }
      ]
    },
    {
      "cell_type": "code",
      "source": [
        "x_data = xy[:, 0:-1]\n",
        "y_data = xy[:, [-1]]"
      ],
      "metadata": {
        "id": "pyoyOXRb3866"
      },
      "execution_count": 13,
      "outputs": []
    },
    {
      "cell_type": "code",
      "source": [
        "print(xy[:, -1].shape, xy[:, [-1]].shape)"
      ],
      "metadata": {
        "colab": {
          "base_uri": "https://localhost:8080/"
        },
        "id": "BnUHgzAe4Dts",
        "outputId": "383f9b66-f2cc-498a-f30c-7d4a24504c2f"
      },
      "execution_count": 17,
      "outputs": [
        {
          "output_type": "stream",
          "name": "stdout",
          "text": [
            "(25,) (25, 1)\n"
          ]
        }
      ]
    },
    {
      "cell_type": "code",
      "source": [
        "print(x_data.shape) # x_data shape\n",
        "print(len(x_data))  # x_data 길이\n",
        "print(x_data[:5])   # 첫 다섯 개"
      ],
      "metadata": {
        "colab": {
          "base_uri": "https://localhost:8080/"
        },
        "id": "iAJxIiFj4Yz5",
        "outputId": "fdd77907-abb1-4656-8bf9-86ca704d4a2a"
      },
      "execution_count": 18,
      "outputs": [
        {
          "output_type": "stream",
          "name": "stdout",
          "text": [
            "(25, 3)\n",
            "25\n",
            "[[ 73.  80.  75.]\n",
            " [ 93.  88.  93.]\n",
            " [ 89.  91.  90.]\n",
            " [ 96.  98. 100.]\n",
            " [ 73.  66.  70.]]\n"
          ]
        }
      ]
    },
    {
      "cell_type": "code",
      "source": [
        "print(y_data.shape) # y_data shape\n",
        "print(len(y_data))  # y_data 길이\n",
        "print(y_data[:5])   # 첫 다섯 개"
      ],
      "metadata": {
        "colab": {
          "base_uri": "https://localhost:8080/"
        },
        "id": "XK8ItNnE4asX",
        "outputId": "b93aa983-3ec2-4850-eaee-31e690a517ad"
      },
      "execution_count": 19,
      "outputs": [
        {
          "output_type": "stream",
          "name": "stdout",
          "text": [
            "(25, 1)\n",
            "25\n",
            "[[152.]\n",
            " [185.]\n",
            " [180.]\n",
            " [196.]\n",
            " [142.]]\n"
          ]
        }
      ]
    },
    {
      "cell_type": "markdown",
      "source": [
        "## **Low-level implementation**"
      ],
      "metadata": {
        "id": "49ZFwCID4geL"
      }
    },
    {
      "cell_type": "code",
      "source": [
        "# 데이터\n",
        "x_train = torch.FloatTensor(x_data)\n",
        "y_train = torch.FloatTensor(y_data)\n",
        "# 모델 초기화\n",
        "W = torch.zeros((3, 1), requires_grad=True)\n",
        "b = torch.zeros(1, requires_grad=True)\n",
        "# optimizer 설정\n",
        "optimizer = optim.SGD([W, b], lr=1e-5)\n",
        "\n",
        "nb_epochs = 1000\n",
        "for epoch in range(nb_epochs + 1):\n",
        "    \n",
        "    # H(x) 계산\n",
        "    hypothesis = x_train.matmul(W) + b # or .mm or @\n",
        "\n",
        "    # cost 계산\n",
        "    cost = torch.mean((hypothesis - y_train) ** 2)\n",
        "\n",
        "    # cost로 H(x) 개선\n",
        "    optimizer.zero_grad()\n",
        "    cost.backward()\n",
        "    optimizer.step()\n",
        "\n",
        "    # 100번마다 로그 출력\n",
        "    if epoch % 100 == 0:\n",
        "        print('Epoch {:4d}/{} Cost: {:.6f}'.format(\n",
        "            epoch, nb_epochs, cost.item()\n",
        "        ))"
      ],
      "metadata": {
        "colab": {
          "base_uri": "https://localhost:8080/"
        },
        "id": "MWj3u1Nn4i1G",
        "outputId": "3873129f-2cba-411a-bf85-47bfde724f8e"
      },
      "execution_count": 25,
      "outputs": [
        {
          "output_type": "stream",
          "name": "stdout",
          "text": [
            "Epoch    0/1000 Cost: 26811.960938\n",
            "Epoch  100/1000 Cost: 11.335222\n",
            "Epoch  200/1000 Cost: 10.945315\n",
            "Epoch  300/1000 Cost: 10.585911\n",
            "Epoch  400/1000 Cost: 10.254474\n",
            "Epoch  500/1000 Cost: 9.948803\n",
            "Epoch  600/1000 Cost: 9.666830\n",
            "Epoch  700/1000 Cost: 9.406623\n",
            "Epoch  800/1000 Cost: 9.166456\n",
            "Epoch  900/1000 Cost: 8.944720\n",
            "Epoch 1000/1000 Cost: 8.739944\n"
          ]
        }
      ]
    },
    {
      "cell_type": "markdown",
      "source": [
        "## **High-level implementation with ```nn.Module```**"
      ],
      "metadata": {
        "id": "0Jq1TQkk4w1y"
      }
    },
    {
      "cell_type": "code",
      "source": [
        "class MultivariateLinearRegressionModel(nn.Module):\n",
        "    def __init__(self):\n",
        "        super().__init__()\n",
        "        self.linear = nn.Linear(3, 1)\n",
        "\n",
        "    def forward(self, x):\n",
        "        return self.linear(x)"
      ],
      "metadata": {
        "id": "Ppy34r2u40II"
      },
      "execution_count": 22,
      "outputs": []
    },
    {
      "cell_type": "code",
      "source": [
        "# 데이터\n",
        "x_train = torch.FloatTensor(x_data)\n",
        "y_train = torch.FloatTensor(y_data)\n",
        "# 모델 초기화\n",
        "model = MultivariateLinearRegressionModel()\n",
        "# optimizer 설정\n",
        "optimizer = optim.SGD(model.parameters(), lr=1e-5)\n",
        "\n",
        "nb_epochs = 1000\n",
        "for epoch in range(nb_epochs+1):\n",
        "    \n",
        "    # H(x) 계산\n",
        "    prediction = model(x_train)\n",
        "    \n",
        "    # cost 계산\n",
        "    cost = F.mse_loss(prediction, y_train)\n",
        "    \n",
        "    # cost로 H(x) 개선\n",
        "    optimizer.zero_grad()\n",
        "    cost.backward()\n",
        "    optimizer.step()\n",
        "    \n",
        "    # 100번마다 로그 출력\n",
        "    if epoch % 100 == 0:\n",
        "        print('Epoch {:4d}/{} Cost: {:.6f}'.format(\n",
        "            epoch, nb_epochs, cost.item()\n",
        "        ))"
      ],
      "metadata": {
        "colab": {
          "base_uri": "https://localhost:8080/"
        },
        "id": "JqxyIJd643Zy",
        "outputId": "de48acda-1834-4eba-ced0-7ead6dbba8c8"
      },
      "execution_count": 26,
      "outputs": [
        {
          "output_type": "stream",
          "name": "stdout",
          "text": [
            "Epoch    0/1000 Cost: 35661.042969\n",
            "Epoch  100/1000 Cost: 17.405342\n",
            "Epoch  200/1000 Cost: 16.464396\n",
            "Epoch  300/1000 Cost: 15.602725\n",
            "Epoch  400/1000 Cost: 14.813580\n",
            "Epoch  500/1000 Cost: 14.090858\n",
            "Epoch  600/1000 Cost: 13.428946\n",
            "Epoch  700/1000 Cost: 12.822679\n",
            "Epoch  800/1000 Cost: 12.267376\n",
            "Epoch  900/1000 Cost: 11.758728\n",
            "Epoch 1000/1000 Cost: 11.292800\n"
          ]
        }
      ]
    },
    {
      "cell_type": "markdown",
      "source": [
        "## **Dataset & DataLoader**"
      ],
      "metadata": {
        "id": "PVokOnt55dKQ"
      }
    },
    {
      "cell_type": "code",
      "source": [
        "class CustomDataset(Dataset):\n",
        "    def __init__(self):\n",
        "        self.x_data =  [[73, 80, 75],\n",
        "                        [93, 88, 93],\n",
        "                        [89, 91, 90],\n",
        "                        [96, 98, 100],\n",
        "                        [73, 66, 70]]\n",
        "        self.y_data = [[152], [185], [180], [196], [142]]\n",
        "\n",
        "    def __len__(self):\n",
        "        return len(self.x_data)\n",
        "\n",
        "    def __getitem__(self, indx):\n",
        "        x = torch.FloatTensor(self.x_data[indx])\n",
        "        y = torch.FloatTensor(self.y_data[indx])\n",
        "\n",
        "        return x, y"
      ],
      "metadata": {
        "id": "WqwNaCRK5f7a"
      },
      "execution_count": 28,
      "outputs": []
    },
    {
      "cell_type": "code",
      "source": [
        "dataset = CustomDataset()"
      ],
      "metadata": {
        "id": "ITBSQMiy6u3D"
      },
      "execution_count": 29,
      "outputs": []
    },
    {
      "cell_type": "code",
      "source": [
        "dataloader = DataLoader(\n",
        "    dataset,\n",
        "    batch_size = 2,\n",
        "    shuffle = True\n",
        ")"
      ],
      "metadata": {
        "id": "JFVbLrih64za"
      },
      "execution_count": 32,
      "outputs": []
    },
    {
      "cell_type": "code",
      "source": [
        "model = MultivariateLinearRegressionModel()\n",
        "optimizer = optim.SGD(model.parameters(), lr=1e-5)\n",
        "\n",
        "epochs = 600\n",
        "for epoch in range(epochs+1):\n",
        "    for batch_indx, samples in enumerate(dataloader):\n",
        "        x_train, y_train = samples\n",
        "        predict = model(x_train)\n",
        "        cost = F.mse_loss(predict, y_train)\n",
        "\n",
        "        optimizer.zero_grad()\n",
        "        cost.backward()\n",
        "        optimizer.step()\n",
        "\n",
        "        if epoch % 200 == 0:\n",
        "            print('Epoch {:4d}/{} Batch {}/{} Cost: {:.6f}'.format(\n",
        "                epoch, epochs, batch_indx+1, len(dataloader), cost.item()\n",
        "            ))"
      ],
      "metadata": {
        "colab": {
          "base_uri": "https://localhost:8080/"
        },
        "id": "3JjqtU0z7CTi",
        "outputId": "f1d238b1-a231-4014-9870-04aaedc5d2ca"
      },
      "execution_count": 52,
      "outputs": [
        {
          "output_type": "stream",
          "name": "stdout",
          "text": [
            "Epoch    0/600 Batch 1/3 Cost: 9102.730469\n",
            "Epoch    0/600 Batch 2/3 Cost: 2070.630127\n",
            "Epoch    0/600 Batch 3/3 Cost: 497.563080\n",
            "Epoch  200/600 Batch 1/3 Cost: 1.395558\n",
            "Epoch  200/600 Batch 2/3 Cost: 1.910182\n",
            "Epoch  200/600 Batch 3/3 Cost: 3.710279\n",
            "Epoch  400/600 Batch 1/3 Cost: 0.185924\n",
            "Epoch  400/600 Batch 2/3 Cost: 3.731120\n",
            "Epoch  400/600 Batch 3/3 Cost: 0.785459\n",
            "Epoch  600/600 Batch 1/3 Cost: 1.188651\n",
            "Epoch  600/600 Batch 2/3 Cost: 0.201798\n",
            "Epoch  600/600 Batch 3/3 Cost: 2.351507\n"
          ]
        }
      ]
    }
  ]
}